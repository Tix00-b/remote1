{
  "cells": [
    {
      "cell_type": "markdown",
      "metadata": {
        "id": "view-in-github",
        "colab_type": "text"
      },
      "source": [
        "<a href=\"https://colab.research.google.com/github/Tix00-b/remote1/blob/main/Copia_di_test_colab_deeplabv3.ipynb\" target=\"_parent\"><img src=\"https://colab.research.google.com/assets/colab-badge.svg\" alt=\"Open In Colab\"/></a>"
      ]
    },
    {
      "cell_type": "code",
      "execution_count": null,
      "metadata": {
        "id": "GFhh6nXMUmL1"
      },
      "outputs": [],
      "source": [
        "!git clone https://github.com/tensorflow/models"
      ]
    },
    {
      "cell_type": "code",
      "execution_count": null,
      "metadata": {
        "id": "u45-U4sfvkgR"
      },
      "outputs": [],
      "source": [
        "!pip install shutil\n",
        "!pip install os\n",
        "from google.colab import drive\n",
        "drive.mount('drive', force_remount=True)\n",
        "\n",
        "import shutil\n",
        "import os\n",
        "    \n",
        "source_dir = '/content/drive/MyDrive/models/SegmentationClassRaw_All'\n",
        "target_dir = '/content/drive/MyDrive/models/SegmentationClass_all'\n",
        "    \n",
        "file_names_old = os.listdir(source_dir)\n",
        "\n",
        "file_names_new = os.listdir(target_dir)\n",
        "i = 0\n",
        "totImg = 5000 + 28280\n",
        "k =0\n",
        "print(file_names_old)\n",
        "\n",
        "file_object = open('/content/drive/MyDrive/models/rimasugli.txt', 'w')\n",
        "# Append 'hello' at the end of file\n",
        "\n",
        "# Close the file\n",
        "\n",
        "with open('/content/drive/MyDrive/models/ImageSets/Segmentation_all/train.txt') as topo_file:\n",
        "    for line in topo_file:\n",
        "      #print(line[:-1]+\".png\")\n",
        "      if not ((line[:-1]+\".png\") in file_names_old):\n",
        "        print(line, k)\n",
        "        file_object.write(line + \"\\n\")\n",
        "        k = k + 1\n",
        "file_object.close()\n",
        "print(\"tot img\", totImg)"
      ]
    },
    {
      "cell_type": "markdown",
      "source": [
        "ssad"
      ],
      "metadata": {
        "id": "omIs6fP5sUbc"
      }
    },
    {
      "cell_type": "code",
      "source": [
        "!pip install shutil\n",
        "!pip install os\n",
        "from google.colab import drive\n",
        "drive.mount('drive', force_remount=True)\n",
        "\n",
        "import shutil\n",
        "import os\n",
        "    \n",
        "source_dir = '/content/drive/MyDrive/models/SegmentationClassRaw_All'\n",
        "target_dir = '/content/drive/MyDrive/models/SegmentationClass_all'\n",
        "    \n",
        "file_names_old = os.listdir(source_dir)\n",
        "print(len(file_names_old))"
      ],
      "metadata": {
        "id": "9gkS1B_V_pjv"
      },
      "execution_count": null,
      "outputs": []
    },
    {
      "cell_type": "code",
      "execution_count": null,
      "metadata": {
        "colab": {
          "base_uri": "https://localhost:8080/"
        },
        "id": "1AW3g17MWuc3",
        "outputId": "51a9b246-f16f-4e1e-da82-5c96b823a85a"
      },
      "outputs": [
        {
          "name": "stdout",
          "output_type": "stream",
          "text": [
            "/bin/bash: line 0: cd: models/research: No such file or directory\n"
          ]
        }
      ],
      "source": [
        "!cd models/research\n"
      ]
    },
    {
      "cell_type": "code",
      "execution_count": null,
      "metadata": {
        "id": "yL-Tmc2kVfuS"
      },
      "outputs": [],
      "source": [
        "%tensorflow_version 1.x\n"
      ]
    },
    {
      "cell_type": "code",
      "execution_count": null,
      "metadata": {
        "id": "2N44n1BZYFyC"
      },
      "outputs": [],
      "source": [
        ""
      ]
    },
    {
      "cell_type": "code",
      "execution_count": null,
      "metadata": {
        "id": "oVtKxtoDYLtY"
      },
      "outputs": [],
      "source": [
        "#From tensorflow/models/research/export \n",
        "!PYTHONPATH=$PYTHONPATH:`pwd`:`pwd`/slim"
      ]
    },
    {
      "cell_type": "code",
      "execution_count": null,
      "metadata": {
        "id": "zIekOCE16ySS"
      },
      "outputs": [],
      "source": [
        "import sys\n",
        "sys.path.append('/content/drive/My Drive/models/research')\n",
        "import slim"
      ]
    },
    {
      "cell_type": "markdown",
      "metadata": {
        "id": "L0DutfaBY3a2"
      },
      "source": [
        "Local Dir: \"D:\\immagini progetto EI\\images\""
      ]
    },
    {
      "cell_type": "code",
      "execution_count": null,
      "metadata": {
        "colab": {
          "base_uri": "https://localhost:8080/"
        },
        "id": "XZL0XFCFXTLZ",
        "outputId": "74cfae64-1769-4608-ab5c-ea2039669053"
      },
      "outputs": [
        {
          "name": "stdout",
          "output_type": "stream",
          "text": [
            "drive  sample_data\n"
          ]
        }
      ],
      "source": [
        "#!cd drive\n",
        "!cd drive/MyDrive/models/research/deeplab/datasets/\n",
        "!dir"
      ]
    },
    {
      "cell_type": "code",
      "execution_count": null,
      "metadata": {
        "id": "6KfVXv6qZMpL"
      },
      "outputs": [],
      "source": [
        "#!mkdir \"drive/MyDrive/models/SegmentationClassRaw\"\n",
        "\n",
        "!python drive/MyDrive/models/research/deeplab/datasets/remove_gt_colormap.py \\\n",
        " --original_gt_folder= \"drive/MyDrive/models/SegmentationClass_all\"\\\n",
        " --output_dir=\"drive/MyDrive/models/SegmentationClassRaw_All\""
      ]
    },
    {
      "cell_type": "code",
      "execution_count": null,
      "metadata": {
        "id": "q7evwycJfiry"
      },
      "outputs": [],
      "source": [
        "from google.colab import drive\n",
        "drive.mount('drive', force_remount=True)\n",
        "\n",
        "!python drive/MyDrive/models/research/deeplab/datasets/remove_gt_colormap.py \\\n",
        " --original_gt_folder= \"/content/drive/MyDrive/models/SegmentationClass_fixed\"\\\n",
        " --output_dir=\"/content/drive/MyDrive/models/SegmentationClassRaw_fixed\""
      ]
    },
    {
      "cell_type": "markdown",
      "metadata": {
        "id": "Nq8lp1xpMHDz"
      },
      "source": [
        "ATTENZIONE!!!!\n",
        "in remove_gt_colormap ho dovuto modificare all'interno del codice un valore. alla riga 77 ho assegnato manualmente la cartella delle GT manualmente. cambiarne il nome dalla casella sottostante è inutile, farlo direttamente dal codice di remove_gt_colormap.py"
      ]
    },
    {
      "cell_type": "code",
      "execution_count": null,
      "metadata": {
        "id": "lVsBofmELWyJ"
      },
      "outputs": [],
      "source": [
        "from google.colab import drive\n",
        "drive.mount('drive', force_remount=True)\n",
        "\n",
        "!python drive/MyDrive/models/research/deeplab/datasets/remove_gt_colormap.py \\\n",
        " --original_gt_folder= \"/content/drive/MyDrive/models/SegmentationClass\"\\\n",
        " --output_dir=\"/content/drive/MyDrive/models/SegmentationClassRaw\""
      ]
    },
    {
      "cell_type": "markdown",
      "metadata": {
        "id": "sQBkvvGGrchn"
      },
      "source": [
        " powershell -command \"& {get-content input.txt|select-object -first 10}\" >output.txt"
      ]
    },
    {
      "cell_type": "code",
      "execution_count": null,
      "metadata": {
        "colab": {
          "base_uri": "https://localhost:8080/"
        },
        "id": "jVNNdWSm_HDi",
        "outputId": "4816d0e0-4395-43e2-d783-795df81486c7"
      },
      "outputs": [
        {
          "name": "stdout",
          "output_type": "stream",
          "text": [
            "['community', 'AUTHORS', 'orbit', 'ISSUES.md', 'README.md', '.github', 'official', '.gitignore', 'CONTRIBUTING.md', 'CODEOWNERS', 'LICENSE', 'tensorflow_models', '.git', 'research', '.ipynb_checkpoints', 'SegmentationClass', 'SegmentationClassRaw', 'ImageSets', 'JPEGImages', 'tfrecord']\n"
          ]
        }
      ],
      "source": [
        "import os\n",
        "print(os.listdir(r'/content/drive/My Drive/models'))"
      ]
    },
    {
      "cell_type": "code",
      "execution_count": null,
      "metadata": {
        "colab": {
          "base_uri": "https://localhost:8080/"
        },
        "id": "k0dEvo0g_5Ra",
        "outputId": "536a95e1-5ba9-49ae-e9ad-ad5a0d95383b"
      },
      "outputs": [
        {
          "name": "stdout",
          "output_type": "stream",
          "text": [
            "Mounted at drive\n"
          ]
        }
      ],
      "source": [
        "from google.colab import drive\n",
        "drive.mount('drive', force_remount=True)"
      ]
    },
    {
      "cell_type": "code",
      "execution_count": null,
      "metadata": {
        "id": "QgsWE0oTT7fk"
      },
      "outputs": [],
      "source": [
        "%tensorflow_version 1.x\n",
        "!pip install tf_slim"
      ]
    },
    {
      "cell_type": "code",
      "source": [
        "cd drive/My Drive/models"
      ],
      "metadata": {
        "colab": {
          "base_uri": "https://localhost:8080/"
        },
        "id": "jgc56NAtQnaD",
        "outputId": "7ebb5c7c-e205-41b0-aa56-120272afec12"
      },
      "execution_count": null,
      "outputs": [
        {
          "output_type": "stream",
          "name": "stdout",
          "text": [
            "/content/drive/My Drive/models\n"
          ]
        }
      ]
    },
    {
      "cell_type": "code",
      "execution_count": null,
      "metadata": {
        "id": "BC7HKDdrsHY5"
      },
      "outputs": [],
      "source": [
        "from google.colab import drive\n",
        "drive.mount('drive', force_remount=True)\n",
        "%tensorflow_version 1.x\n",
        "!pip install tf_slim\n",
        "import sys\n",
        "sys.path.append('/content/drive/My Drive/models')\n",
        "\n",
        "!python drive/MyDrive/models/research/deeplab/datasets/build_voc2012_data.py \\\n",
        "  --image_folder=\"/content/drive/MyDrive/models/JPEGImages_all\" \\\n",
        "  --semantic_segmentation_folder=\"/content/drive/MyDrive/models/SegmentationClassRaw_fixed\" \\\n",
        "  --list_folder=\"/content/drive/MyDrive/models/ImageSets/Segmentation_all\" \\\n",
        "  --image_format=\"jpg\" \\\n",
        "  --output_dir=\"/content/drive/MyDrive/models/tfrecord_all\""
      ]
    },
    {
      "cell_type": "code",
      "source": [
        "!cd drive\n",
        "!ls"
      ],
      "metadata": {
        "colab": {
          "base_uri": "https://localhost:8080/"
        },
        "id": "5tBSoxi9QTOz",
        "outputId": "d5c66159-997c-4921-8b9f-ac4d2268812c"
      },
      "execution_count": null,
      "outputs": [
        {
          "output_type": "stream",
          "name": "stdout",
          "text": [
            "drive  sample_data\n"
          ]
        }
      ]
    },
    {
      "cell_type": "code",
      "execution_count": null,
      "metadata": {
        "id": "8l_FWQD6v8LZ"
      },
      "outputs": [],
      "source": [
        "import sys\n",
        "sys.path.append('/content/drive/My Drive/models/research')\n",
        "\n",
        "!python /content/drive/MyDrive/models/research/deeplab/train.py --logtostderr \\\n",
        "--training_number_of_steps=3000 \\\n",
        "   --train_split=\"train\" \\\n",
        "   --model_variant=\"mobilenet_v2\" \\\n",
        "   --output_stride=16 \\\n",
        "   --decoder_output_stride=4 \\\n",
        "   --train_crop_size=\"513,513\" \\\n",
        "   --train_batch_size=5 \\\n",
        "   --dataset=\"pascal_voc_seg\" \\\n",
        "   --tf_initial_checkpoint=\"/content/drive/MyDrive/models/deeplabv3_mnv2_pascal_trainval/model.ckpt-30000\" \\\n",
        "   --train_logdir=\"/content/drive/MyDrive/models/checkpoint_all\" \\\n",
        "   --dataset_dir=\"/content/drive/MyDrive/models/tfrecord_all\" \\\n",
        "   --fine_tune_batch_norm=false \\\n",
        "   --initialize_last_layer=true \\\n",
        "   --last_layers_contain_logits_only=false"
      ]
    },
    {
      "cell_type": "code",
      "execution_count": null,
      "metadata": {
        "id": "O1HmqF3sVBsS"
      },
      "outputs": [],
      "source": [
        "!python /content/drive/MyDrive/models/research/deeplab/vis.py --logtostderr \\\n",
        "  --vis_split=\"val\" \\\n",
        "  --model_variant=\"xception_65\" \\\n",
        "  --output_stride=16 \\\n",
        "  --decoder_output_stride=4 \\\n",
        "  --vis_crop_size=\"513,513\" \\\n",
        "  --dataset=\"pascal_voc_seg\" \\\n",
        "  --checkpoint_dir=\"/content/drive/MyDrive/models/checkpoint_old\" \\\n",
        "  --vis_logdir=\"/content/drive/MyDrive/models/result_images\" \\\n",
        "  --dataset_dir=\"/content/drive/MyDrive/models/tfrecord\" \\\n",
        "  --max_number_of_iterations=1 \\\n",
        "  --min_size =513 \\\n",
        "  --max_size =513 \\\n",
        "  --eval_interval_secs=0"
      ]
    },
    {
      "cell_type": "code",
      "execution_count": null,
      "metadata": {
        "id": "FIpXaDKNvu4g"
      },
      "outputs": [],
      "source": [
        "%tensorflow_version 1.x\n",
        "!pip install tf_slim\n",
        "\n",
        "!python /content/drive/MyDrive/models/research/deeplab/vis.py --logtostderr \\\n",
        "  --vis_split=\"val\" \\\n",
        "  --model_variant=\"xception_65\" \\\n",
        "  --output_stride=16 \\\n",
        "    --atrous_rates=6 \\\n",
        "   --atrous_rates=12 \\\n",
        "   --atrous_rates=18 \\\n",
        "   --output_stride=16 \\\n",
        "  --decoder_output_stride=4 \\\n",
        "  --vis_crop_size=\"513,513\" \\\n",
        "  --min_resize_value=513 \\\n",
        "  --max_resize_value=513 \\\n",
        "  --dataset=\"pascal_voc_seg\" \\\n",
        "  --checkpoint_dir=\"/content/drive/MyDrive/models/checkpoint_exc\" \\\n",
        "  --vis_logdir=\"/content/drive/MyDrive/models/Result_img_exc\" \\\n",
        "  --dataset_dir=\"/content/drive/MyDrive/models/tfrecord\" \\\n",
        "  --train_crop_size=513 \\\n",
        "  --max_number_of_iterations=1 --eval_interval_secs=0"
      ]
    },
    {
      "cell_type": "code",
      "execution_count": null,
      "metadata": {
        "id": "XCMKwyg6kBEF"
      },
      "outputs": [],
      "source": [
        "%tensorflow_version 1.x\n",
        "!pip install tf_slim\n",
        "!python /content/drive/MyDrive/models/research/deeplab/train.py --logtostderr \\\n",
        "   --training_number_of_steps=30000 \\\n",
        "   --train_split=\"train\" \\\n",
        "   --model_variant=\"xception_65\" \\\n",
        "   --atrous_rates=6 \\\n",
        "   --atrous_rates=12 \\\n",
        "   --atrous_rates=18 \\\n",
        "   --output_stride=16 \\\n",
        "   --decoder_output_stride=4 \\\n",
        "  --train_crop_size=\"513,513\" \\\n",
        "   --train_batch_size=1 \\\n",
        "   --dataset=\"pascal_voc_seg\" \\\n",
        "   --tf_initial_checkpoint=\"/content/drive/MyDrive/models/deeplabv3_pascal_train_aug/model.ckpt\" \\\n",
        "   --train_logdir=\"/content/drive/MyDrive/models/checkpoint_exc_all\" \\\n",
        "   --dataset_dir=\"/content/drive/MyDrive/models/tfrecord_all\" \\\n",
        "   --fine_tune_batch_norm=false \\\n",
        "   --initialize_last_layer=true \\\n",
        "   --last_layers_contain_logits_only=false"
      ]
    }
  ],
  "metadata": {
    "colab": {
      "name": "Copia di test_colab_deeplabv3.ipynb",
      "provenance": [],
      "collapsed_sections": [],
      "mount_file_id": "1hVXtKgzbryJFY2iQLwBw1ILXGd0Io30y",
      "authorship_tag": "ABX9TyO2d/2YCY2DZCVEmqtiscDG",
      "include_colab_link": true
    },
    "kernelspec": {
      "display_name": "Python 3",
      "name": "python3"
    },
    "language_info": {
      "name": "python"
    },
    "accelerator": "GPU"
  },
  "nbformat": 4,
  "nbformat_minor": 0
}